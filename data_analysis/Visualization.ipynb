{
 "cells": [
  {
   "cell_type": "code",
   "execution_count": 173,
   "metadata": {},
   "outputs": [],
   "source": [
    "import numpy as np\n",
    "import pandas as pd\n",
    "import matplotlib.pyplot as plt\n",
    "import seaborn as sns\n",
    "\n",
    "%matplotlib inline"
   ]
  },
  {
   "cell_type": "code",
   "execution_count": 174,
   "metadata": {},
   "outputs": [],
   "source": [
    "time_df = pd.read_csv(\"time_data.csv\")"
   ]
  },
  {
   "cell_type": "code",
   "execution_count": 206,
   "metadata": {},
   "outputs": [
    {
     "data": {
      "text/plain": [
       "24"
      ]
     },
     "execution_count": 206,
     "metadata": {},
     "output_type": "execute_result"
    }
   ],
   "source": [
    "len(np.unique(time_df['participant_number']))"
   ]
  },
  {
   "cell_type": "code",
   "execution_count": 175,
   "metadata": {},
   "outputs": [
    {
     "data": {
      "text/html": [
       "<div>\n",
       "<style scoped>\n",
       "    .dataframe tbody tr th:only-of-type {\n",
       "        vertical-align: middle;\n",
       "    }\n",
       "\n",
       "    .dataframe tbody tr th {\n",
       "        vertical-align: top;\n",
       "    }\n",
       "\n",
       "    .dataframe thead th {\n",
       "        text-align: right;\n",
       "    }\n",
       "</style>\n",
       "<table border=\"1\" class=\"dataframe\">\n",
       "  <thead>\n",
       "    <tr style=\"text-align: right;\">\n",
       "      <th></th>\n",
       "      <th>participant_number</th>\n",
       "      <th>condition</th>\n",
       "      <th>menu_order</th>\n",
       "      <th>selection_time</th>\n",
       "      <th>correctly_predicted</th>\n",
       "      <th>error_in_trial</th>\n",
       "    </tr>\n",
       "  </thead>\n",
       "  <tbody>\n",
       "    <tr>\n",
       "      <th>0</th>\n",
       "      <td>0</td>\n",
       "      <td>control</td>\n",
       "      <td>0</td>\n",
       "      <td>4073</td>\n",
       "      <td>True</td>\n",
       "      <td>False</td>\n",
       "    </tr>\n",
       "    <tr>\n",
       "      <th>1</th>\n",
       "      <td>0</td>\n",
       "      <td>control</td>\n",
       "      <td>0</td>\n",
       "      <td>2346</td>\n",
       "      <td>True</td>\n",
       "      <td>False</td>\n",
       "    </tr>\n",
       "    <tr>\n",
       "      <th>2</th>\n",
       "      <td>0</td>\n",
       "      <td>control</td>\n",
       "      <td>0</td>\n",
       "      <td>1072</td>\n",
       "      <td>True</td>\n",
       "      <td>False</td>\n",
       "    </tr>\n",
       "    <tr>\n",
       "      <th>3</th>\n",
       "      <td>0</td>\n",
       "      <td>control</td>\n",
       "      <td>0</td>\n",
       "      <td>1272</td>\n",
       "      <td>False</td>\n",
       "      <td>False</td>\n",
       "    </tr>\n",
       "    <tr>\n",
       "      <th>4</th>\n",
       "      <td>0</td>\n",
       "      <td>control</td>\n",
       "      <td>0</td>\n",
       "      <td>1904</td>\n",
       "      <td>True</td>\n",
       "      <td>False</td>\n",
       "    </tr>\n",
       "  </tbody>\n",
       "</table>\n",
       "</div>"
      ],
      "text/plain": [
       "   participant_number condition  menu_order  selection_time  \\\n",
       "0                   0   control           0            4073   \n",
       "1                   0   control           0            2346   \n",
       "2                   0   control           0            1072   \n",
       "3                   0   control           0            1272   \n",
       "4                   0   control           0            1904   \n",
       "\n",
       "   correctly_predicted  error_in_trial  \n",
       "0                 True           False  \n",
       "1                 True           False  \n",
       "2                 True           False  \n",
       "3                False           False  \n",
       "4                 True           False  "
      ]
     },
     "execution_count": 175,
     "metadata": {},
     "output_type": "execute_result"
    }
   ],
   "source": [
    "time_df.head()"
   ]
  },
  {
   "cell_type": "code",
   "execution_count": 176,
   "metadata": {},
   "outputs": [
    {
     "data": {
      "text/plain": [
       "2520"
      ]
     },
     "execution_count": 176,
     "metadata": {},
     "output_type": "execute_result"
    }
   ],
   "source": [
    "np.sum(time_df['menu_order'])"
   ]
  },
  {
   "cell_type": "code",
   "execution_count": 177,
   "metadata": {},
   "outputs": [
    {
     "data": {
      "text/plain": [
       "participant_number      int64\n",
       "condition              object\n",
       "menu_order              int64\n",
       "selection_time          int64\n",
       "correctly_predicted      bool\n",
       "error_in_trial           bool\n",
       "dtype: object"
      ]
     },
     "execution_count": 177,
     "metadata": {},
     "output_type": "execute_result"
    }
   ],
   "source": [
    "time_df.dtypes"
   ]
  },
  {
   "cell_type": "code",
   "execution_count": 178,
   "metadata": {},
   "outputs": [
    {
     "data": {
      "text/html": [
       "<div>\n",
       "<style scoped>\n",
       "    .dataframe tbody tr th:only-of-type {\n",
       "        vertical-align: middle;\n",
       "    }\n",
       "\n",
       "    .dataframe tbody tr th {\n",
       "        vertical-align: top;\n",
       "    }\n",
       "\n",
       "    .dataframe thead th {\n",
       "        text-align: right;\n",
       "    }\n",
       "</style>\n",
       "<table border=\"1\" class=\"dataframe\">\n",
       "  <thead>\n",
       "    <tr style=\"text-align: right;\">\n",
       "      <th></th>\n",
       "      <th>participant_number</th>\n",
       "      <th>menu_order</th>\n",
       "      <th>selection_time</th>\n",
       "    </tr>\n",
       "  </thead>\n",
       "  <tbody>\n",
       "    <tr>\n",
       "      <th>count</th>\n",
       "      <td>4320.000000</td>\n",
       "      <td>4320.000000</td>\n",
       "      <td>4320.000000</td>\n",
       "    </tr>\n",
       "    <tr>\n",
       "      <th>mean</th>\n",
       "      <td>12.000000</td>\n",
       "      <td>0.583333</td>\n",
       "      <td>1818.491204</td>\n",
       "    </tr>\n",
       "    <tr>\n",
       "      <th>std</th>\n",
       "      <td>7.360653</td>\n",
       "      <td>0.493064</td>\n",
       "      <td>1120.501622</td>\n",
       "    </tr>\n",
       "    <tr>\n",
       "      <th>min</th>\n",
       "      <td>0.000000</td>\n",
       "      <td>0.000000</td>\n",
       "      <td>526.000000</td>\n",
       "    </tr>\n",
       "    <tr>\n",
       "      <th>25%</th>\n",
       "      <td>5.750000</td>\n",
       "      <td>0.000000</td>\n",
       "      <td>1173.000000</td>\n",
       "    </tr>\n",
       "    <tr>\n",
       "      <th>50%</th>\n",
       "      <td>12.000000</td>\n",
       "      <td>1.000000</td>\n",
       "      <td>1528.000000</td>\n",
       "    </tr>\n",
       "    <tr>\n",
       "      <th>75%</th>\n",
       "      <td>18.250000</td>\n",
       "      <td>1.000000</td>\n",
       "      <td>2152.000000</td>\n",
       "    </tr>\n",
       "    <tr>\n",
       "      <th>max</th>\n",
       "      <td>24.000000</td>\n",
       "      <td>1.000000</td>\n",
       "      <td>19888.000000</td>\n",
       "    </tr>\n",
       "  </tbody>\n",
       "</table>\n",
       "</div>"
      ],
      "text/plain": [
       "       participant_number   menu_order  selection_time\n",
       "count         4320.000000  4320.000000     4320.000000\n",
       "mean            12.000000     0.583333     1818.491204\n",
       "std              7.360653     0.493064     1120.501622\n",
       "min              0.000000     0.000000      526.000000\n",
       "25%              5.750000     0.000000     1173.000000\n",
       "50%             12.000000     1.000000     1528.000000\n",
       "75%             18.250000     1.000000     2152.000000\n",
       "max             24.000000     1.000000    19888.000000"
      ]
     },
     "execution_count": 178,
     "metadata": {},
     "output_type": "execute_result"
    }
   ],
   "source": [
    "time_df.describe()"
   ]
  },
  {
   "cell_type": "markdown",
   "metadata": {},
   "source": [
    "## (1) Average time per condition "
   ]
  },
  {
   "cell_type": "code",
   "execution_count": 179,
   "metadata": {},
   "outputs": [
    {
     "data": {
      "text/plain": [
       "1918.8305555555555"
      ]
     },
     "execution_count": 179,
     "metadata": {},
     "output_type": "execute_result"
    }
   ],
   "source": [
    "np.average(time_df['selection_time'][time_df['condition'] == \"control\"])"
   ]
  },
  {
   "cell_type": "code",
   "execution_count": 180,
   "metadata": {},
   "outputs": [
    {
     "data": {
      "text/plain": [
       "1718.151851851852"
      ]
     },
     "execution_count": 180,
     "metadata": {},
     "output_type": "execute_result"
    }
   ],
   "source": [
    "np.average(time_df['selection_time'][time_df['condition'] != \"control\"])"
   ]
  },
  {
   "cell_type": "markdown",
   "metadata": {},
   "source": [
    "## (2) Averge time per condition per Predicted vs Non-predicted trial"
   ]
  },
  {
   "cell_type": "code",
   "execution_count": 181,
   "metadata": {},
   "outputs": [],
   "source": [
    "# average_speed = np.average(time_df['selection_time'], weights = (time_df['condition'] == \"control\"))\n",
    "# average_speed/1000 # to seconds"
   ]
  },
  {
   "cell_type": "markdown",
   "metadata": {},
   "source": [
    "#### (2a) Within control condition: compare predicted vs non-predicted"
   ]
  },
  {
   "cell_type": "code",
   "execution_count": 182,
   "metadata": {},
   "outputs": [
    {
     "data": {
      "text/plain": [
       "1899.367476851852"
      ]
     },
     "execution_count": 182,
     "metadata": {},
     "output_type": "execute_result"
    }
   ],
   "source": [
    "np.average(time_df['selection_time'][time_df['condition'] == \"control\"][time_df['correctly_predicted'] == True])"
   ]
  },
  {
   "cell_type": "code",
   "execution_count": 183,
   "metadata": {},
   "outputs": [
    {
     "data": {
      "text/plain": [
       "1996.6828703703704"
      ]
     },
     "execution_count": 183,
     "metadata": {},
     "output_type": "execute_result"
    }
   ],
   "source": [
    "np.average(time_df['selection_time'][time_df['condition'] == \"control\"][time_df['correctly_predicted'] == False])"
   ]
  },
  {
   "cell_type": "markdown",
   "metadata": {},
   "source": [
    "#### (2b) Within ephemeral condition: compare predicted vs non-predicted trial"
   ]
  },
  {
   "cell_type": "code",
   "execution_count": 184,
   "metadata": {
    "scrolled": true
   },
   "outputs": [
    {
     "data": {
      "text/plain": [
       "1655.226273148148"
      ]
     },
     "execution_count": 184,
     "metadata": {},
     "output_type": "execute_result"
    }
   ],
   "source": [
    "np.average(time_df['selection_time'][time_df['condition'] != \"control\"][time_df['correctly_predicted'] == True])"
   ]
  },
  {
   "cell_type": "code",
   "execution_count": 185,
   "metadata": {},
   "outputs": [
    {
     "data": {
      "text/plain": [
       "1969.8541666666667"
      ]
     },
     "execution_count": 185,
     "metadata": {},
     "output_type": "execute_result"
    }
   ],
   "source": [
    "np.average(time_df['selection_time'][time_df['condition'] != \"control\"][time_df['correctly_predicted'] == False])"
   ]
  },
  {
   "cell_type": "markdown",
   "metadata": {},
   "source": [
    "## (3) Error rate"
   ]
  },
  {
   "cell_type": "code",
   "execution_count": 186,
   "metadata": {},
   "outputs": [
    {
     "data": {
      "text/plain": [
       "8"
      ]
     },
     "execution_count": 186,
     "metadata": {},
     "output_type": "execute_result"
    }
   ],
   "source": [
    "np.sum(time_df['error_in_trial'][time_df['condition'] == \"control\"])\n",
    "# np.sum(time_df['condition'] == 'control')"
   ]
  },
  {
   "cell_type": "code",
   "execution_count": 187,
   "metadata": {},
   "outputs": [
    {
     "data": {
      "text/plain": [
       "0.003703703703703704"
      ]
     },
     "execution_count": 187,
     "metadata": {},
     "output_type": "execute_result"
    }
   ],
   "source": [
    "np.average(time_df['error_in_trial'][time_df['condition'] == \"control\"])"
   ]
  },
  {
   "cell_type": "code",
   "execution_count": 188,
   "metadata": {},
   "outputs": [
    {
     "data": {
      "text/plain": [
       "3"
      ]
     },
     "execution_count": 188,
     "metadata": {},
     "output_type": "execute_result"
    }
   ],
   "source": [
    "np.sum(time_df['error_in_trial'][time_df['condition'] != \"control\"])\n",
    "# np.sum(time_df['condition'] != 'control')"
   ]
  },
  {
   "cell_type": "code",
   "execution_count": 189,
   "metadata": {},
   "outputs": [
    {
     "data": {
      "text/plain": [
       "0.001388888888888889"
      ]
     },
     "execution_count": 189,
     "metadata": {},
     "output_type": "execute_result"
    }
   ],
   "source": [
    "np.average(time_df['error_in_trial'][time_df['condition'] != \"control\"])"
   ]
  },
  {
   "cell_type": "markdown",
   "metadata": {},
   "source": [
    "## Qualitative Questions"
   ]
  },
  {
   "cell_type": "code",
   "execution_count": 190,
   "metadata": {},
   "outputs": [
    {
     "data": {
      "text/html": [
       "<div>\n",
       "<style scoped>\n",
       "    .dataframe tbody tr th:only-of-type {\n",
       "        vertical-align: middle;\n",
       "    }\n",
       "\n",
       "    .dataframe tbody tr th {\n",
       "        vertical-align: top;\n",
       "    }\n",
       "\n",
       "    .dataframe thead th {\n",
       "        text-align: right;\n",
       "    }\n",
       "</style>\n",
       "<table border=\"1\" class=\"dataframe\">\n",
       "  <thead>\n",
       "    <tr style=\"text-align: right;\">\n",
       "      <th></th>\n",
       "      <th>participant_number</th>\n",
       "      <th>age</th>\n",
       "      <th>gender</th>\n",
       "      <th>menu_order</th>\n",
       "      <th>overall_preference</th>\n",
       "      <th>overall_easy</th>\n",
       "      <th>control_satisfaction</th>\n",
       "      <th>control_difficulty</th>\n",
       "      <th>control_frustration</th>\n",
       "      <th>control_efficiency</th>\n",
       "      <th>ephemeral_satisfaction</th>\n",
       "      <th>ephemeral_difficulty</th>\n",
       "      <th>ephemeral_frustration</th>\n",
       "      <th>ephemeral_efficiency</th>\n",
       "    </tr>\n",
       "  </thead>\n",
       "  <tbody>\n",
       "    <tr>\n",
       "      <th>0</th>\n",
       "      <td>0</td>\n",
       "      <td>26-30</td>\n",
       "      <td>Male</td>\n",
       "      <td>0</td>\n",
       "      <td>Second two</td>\n",
       "      <td>Second two</td>\n",
       "      <td>4</td>\n",
       "      <td>7</td>\n",
       "      <td>2</td>\n",
       "      <td>4</td>\n",
       "      <td>4</td>\n",
       "      <td>7</td>\n",
       "      <td>2</td>\n",
       "      <td>4</td>\n",
       "    </tr>\n",
       "    <tr>\n",
       "      <th>1</th>\n",
       "      <td>1</td>\n",
       "      <td>21-25</td>\n",
       "      <td>Female</td>\n",
       "      <td>0</td>\n",
       "      <td>Second two</td>\n",
       "      <td>Second two</td>\n",
       "      <td>5</td>\n",
       "      <td>7</td>\n",
       "      <td>3</td>\n",
       "      <td>5</td>\n",
       "      <td>5</td>\n",
       "      <td>7</td>\n",
       "      <td>3</td>\n",
       "      <td>6</td>\n",
       "    </tr>\n",
       "    <tr>\n",
       "      <th>2</th>\n",
       "      <td>2</td>\n",
       "      <td>21-25</td>\n",
       "      <td>Male</td>\n",
       "      <td>1</td>\n",
       "      <td>First two</td>\n",
       "      <td>First two</td>\n",
       "      <td>5</td>\n",
       "      <td>6</td>\n",
       "      <td>6</td>\n",
       "      <td>5</td>\n",
       "      <td>6</td>\n",
       "      <td>6</td>\n",
       "      <td>6</td>\n",
       "      <td>5</td>\n",
       "    </tr>\n",
       "    <tr>\n",
       "      <th>3</th>\n",
       "      <td>3</td>\n",
       "      <td>26-30</td>\n",
       "      <td>Female</td>\n",
       "      <td>1</td>\n",
       "      <td>Second two</td>\n",
       "      <td>Second two</td>\n",
       "      <td>7</td>\n",
       "      <td>6</td>\n",
       "      <td>1</td>\n",
       "      <td>6</td>\n",
       "      <td>7</td>\n",
       "      <td>6</td>\n",
       "      <td>1</td>\n",
       "      <td>6</td>\n",
       "    </tr>\n",
       "    <tr>\n",
       "      <th>4</th>\n",
       "      <td>4</td>\n",
       "      <td>21-25</td>\n",
       "      <td>Other</td>\n",
       "      <td>1</td>\n",
       "      <td>First two</td>\n",
       "      <td>First two</td>\n",
       "      <td>6</td>\n",
       "      <td>5</td>\n",
       "      <td>1</td>\n",
       "      <td>5</td>\n",
       "      <td>5</td>\n",
       "      <td>7</td>\n",
       "      <td>1</td>\n",
       "      <td>6</td>\n",
       "    </tr>\n",
       "  </tbody>\n",
       "</table>\n",
       "</div>"
      ],
      "text/plain": [
       "   participant_number    age  gender  menu_order overall_preference  \\\n",
       "0                   0  26-30    Male           0         Second two   \n",
       "1                   1  21-25  Female           0         Second two   \n",
       "2                   2  21-25    Male           1          First two   \n",
       "3                   3  26-30  Female           1         Second two   \n",
       "4                   4  21-25   Other           1          First two   \n",
       "\n",
       "  overall_easy  control_satisfaction  control_difficulty  control_frustration  \\\n",
       "0   Second two                     4                   7                    2   \n",
       "1   Second two                     5                   7                    3   \n",
       "2    First two                     5                   6                    6   \n",
       "3   Second two                     7                   6                    1   \n",
       "4    First two                     6                   5                    1   \n",
       "\n",
       "   control_efficiency  ephemeral_satisfaction  ephemeral_difficulty  \\\n",
       "0                   4                       4                     7   \n",
       "1                   5                       5                     7   \n",
       "2                   5                       6                     6   \n",
       "3                   6                       7                     6   \n",
       "4                   5                       5                     7   \n",
       "\n",
       "   ephemeral_frustration  ephemeral_efficiency  \n",
       "0                      2                     4  \n",
       "1                      3                     6  \n",
       "2                      6                     5  \n",
       "3                      1                     6  \n",
       "4                      1                     6  "
      ]
     },
     "execution_count": 190,
     "metadata": {},
     "output_type": "execute_result"
    }
   ],
   "source": [
    "qual_df = pd.read_csv('qualitative_data.csv')\n",
    "qual_df.head()"
   ]
  },
  {
   "cell_type": "code",
   "execution_count": 191,
   "metadata": {},
   "outputs": [
    {
     "data": {
      "text/plain": [
       "Index(['participant_number', 'age', 'gender', 'menu_order',\n",
       "       'overall_preference', 'overall_easy', 'control_satisfaction',\n",
       "       'control_difficulty', 'control_frustration', 'control_efficiency',\n",
       "       'ephemeral_satisfaction', 'ephemeral_difficulty',\n",
       "       'ephemeral_frustration', 'ephemeral_efficiency'],\n",
       "      dtype='object')"
      ]
     },
     "execution_count": 191,
     "metadata": {},
     "output_type": "execute_result"
    }
   ],
   "source": [
    "qual_df.columns"
   ]
  },
  {
   "cell_type": "markdown",
   "metadata": {},
   "source": [
    "### Gender"
   ]
  },
  {
   "cell_type": "code",
   "execution_count": 192,
   "metadata": {},
   "outputs": [
    {
     "data": {
      "text/plain": [
       "14"
      ]
     },
     "execution_count": 192,
     "metadata": {},
     "output_type": "execute_result"
    }
   ],
   "source": [
    "np.sum(qual_df['gender'] == \"Male\")"
   ]
  },
  {
   "cell_type": "code",
   "execution_count": 193,
   "metadata": {},
   "outputs": [
    {
     "data": {
      "text/plain": [
       "24"
      ]
     },
     "execution_count": 193,
     "metadata": {},
     "output_type": "execute_result"
    }
   ],
   "source": [
    "len(qual_df['gender'])"
   ]
  },
  {
   "cell_type": "code",
   "execution_count": 194,
   "metadata": {},
   "outputs": [
    {
     "data": {
      "text/plain": [
       "14"
      ]
     },
     "execution_count": 194,
     "metadata": {},
     "output_type": "execute_result"
    }
   ],
   "source": [
    "np.sum(qual_df['menu_order'])"
   ]
  },
  {
   "cell_type": "markdown",
   "metadata": {},
   "source": [
    "### Overall Preference"
   ]
  },
  {
   "cell_type": "code",
   "execution_count": 195,
   "metadata": {},
   "outputs": [],
   "source": [
    "qual_df['overall_pref'] = qual_df['overall_preference']"
   ]
  },
  {
   "cell_type": "code",
   "execution_count": 196,
   "metadata": {},
   "outputs": [],
   "source": [
    "qual_df.loc[(qual_df['menu_order'] == 0) & (qual_df['overall_pref'] == 'First two'), 'overall_pref'] = \"Control\"\n",
    "qual_df.loc[(qual_df['menu_order'] == 0) & (qual_df['overall_pref'] == 'Second two'), 'overall_pref'] = \"Ephermal\"\n",
    "qual_df.loc[(qual_df['menu_order'] == 1) & (qual_df['overall_pref'] == 'First two'), 'overall_pref'] = \"Ephermal\"\n",
    "qual_df.loc[(qual_df['menu_order'] == 1) & (qual_df['overall_pref'] == 'Second two'), 'overall_pref'] = \"Control\""
   ]
  },
  {
   "cell_type": "code",
   "execution_count": 197,
   "metadata": {},
   "outputs": [
    {
     "data": {
      "text/html": [
       "<div>\n",
       "<style scoped>\n",
       "    .dataframe tbody tr th:only-of-type {\n",
       "        vertical-align: middle;\n",
       "    }\n",
       "\n",
       "    .dataframe tbody tr th {\n",
       "        vertical-align: top;\n",
       "    }\n",
       "\n",
       "    .dataframe thead th {\n",
       "        text-align: right;\n",
       "    }\n",
       "</style>\n",
       "<table border=\"1\" class=\"dataframe\">\n",
       "  <thead>\n",
       "    <tr style=\"text-align: right;\">\n",
       "      <th></th>\n",
       "      <th>menu_order</th>\n",
       "      <th>overall_preference</th>\n",
       "      <th>overall_pref</th>\n",
       "    </tr>\n",
       "  </thead>\n",
       "  <tbody>\n",
       "    <tr>\n",
       "      <th>0</th>\n",
       "      <td>0</td>\n",
       "      <td>Second two</td>\n",
       "      <td>Ephermal</td>\n",
       "    </tr>\n",
       "    <tr>\n",
       "      <th>1</th>\n",
       "      <td>0</td>\n",
       "      <td>Second two</td>\n",
       "      <td>Ephermal</td>\n",
       "    </tr>\n",
       "    <tr>\n",
       "      <th>2</th>\n",
       "      <td>1</td>\n",
       "      <td>First two</td>\n",
       "      <td>Ephermal</td>\n",
       "    </tr>\n",
       "    <tr>\n",
       "      <th>3</th>\n",
       "      <td>1</td>\n",
       "      <td>Second two</td>\n",
       "      <td>Control</td>\n",
       "    </tr>\n",
       "    <tr>\n",
       "      <th>4</th>\n",
       "      <td>1</td>\n",
       "      <td>First two</td>\n",
       "      <td>Ephermal</td>\n",
       "    </tr>\n",
       "  </tbody>\n",
       "</table>\n",
       "</div>"
      ],
      "text/plain": [
       "   menu_order overall_preference overall_pref\n",
       "0           0         Second two     Ephermal\n",
       "1           0         Second two     Ephermal\n",
       "2           1          First two     Ephermal\n",
       "3           1         Second two      Control\n",
       "4           1          First two     Ephermal"
      ]
     },
     "execution_count": 197,
     "metadata": {},
     "output_type": "execute_result"
    }
   ],
   "source": [
    "qual_df[['menu_order', 'overall_preference', 'overall_pref']].head()"
   ]
  },
  {
   "cell_type": "code",
   "execution_count": 208,
   "metadata": {},
   "outputs": [
    {
     "name": "stdout",
     "output_type": "stream",
     "text": [
      "15 people prefer the Ephermal condition\n",
      "62.5 % of people prefer the Ephermal condition\n"
     ]
    }
   ],
   "source": [
    "print(str(np.sum(qual_df['overall_pref'] == \"Ephermal\")) + ' people prefer the Ephermal condition')\n",
    "print(str(np.sum(qual_df['overall_pref'] == \"Ephermal\")/len(qual_df) * 100) + ' % of people prefer the Ephermal condition')"
   ]
  },
  {
   "cell_type": "markdown",
   "metadata": {},
   "source": [
    "## Overall Easiness"
   ]
  },
  {
   "cell_type": "code",
   "execution_count": 209,
   "metadata": {},
   "outputs": [],
   "source": [
    "qual_df['overall_easiness'] = qual_df['overall_easy']\n",
    "qual_df.loc[(qual_df['menu_order'] == 0) & (qual_df['overall_easy'] == 'First two'), 'overall_easiness'] = \"Control\"\n",
    "qual_df.loc[(qual_df['menu_order'] == 0) & (qual_df['overall_easy'] == 'Second two'), 'overall_easiness'] = \"Ephermal\"\n",
    "qual_df.loc[(qual_df['menu_order'] == 1) & (qual_df['overall_easy'] == 'First two'), 'overall_easiness'] = \"Ephermal\"\n",
    "qual_df.loc[(qual_df['menu_order'] == 1) & (qual_df['overall_easy'] == 'Second two'), 'overall_easiness'] = \"Control\""
   ]
  },
  {
   "cell_type": "code",
   "execution_count": 210,
   "metadata": {},
   "outputs": [
    {
     "data": {
      "text/html": [
       "<div>\n",
       "<style scoped>\n",
       "    .dataframe tbody tr th:only-of-type {\n",
       "        vertical-align: middle;\n",
       "    }\n",
       "\n",
       "    .dataframe tbody tr th {\n",
       "        vertical-align: top;\n",
       "    }\n",
       "\n",
       "    .dataframe thead th {\n",
       "        text-align: right;\n",
       "    }\n",
       "</style>\n",
       "<table border=\"1\" class=\"dataframe\">\n",
       "  <thead>\n",
       "    <tr style=\"text-align: right;\">\n",
       "      <th></th>\n",
       "      <th>menu_order</th>\n",
       "      <th>overall_easy</th>\n",
       "      <th>overall_easiness</th>\n",
       "    </tr>\n",
       "  </thead>\n",
       "  <tbody>\n",
       "    <tr>\n",
       "      <th>0</th>\n",
       "      <td>0</td>\n",
       "      <td>Second two</td>\n",
       "      <td>Ephermal</td>\n",
       "    </tr>\n",
       "    <tr>\n",
       "      <th>1</th>\n",
       "      <td>0</td>\n",
       "      <td>Second two</td>\n",
       "      <td>Ephermal</td>\n",
       "    </tr>\n",
       "    <tr>\n",
       "      <th>2</th>\n",
       "      <td>1</td>\n",
       "      <td>First two</td>\n",
       "      <td>Ephermal</td>\n",
       "    </tr>\n",
       "    <tr>\n",
       "      <th>3</th>\n",
       "      <td>1</td>\n",
       "      <td>Second two</td>\n",
       "      <td>Control</td>\n",
       "    </tr>\n",
       "    <tr>\n",
       "      <th>4</th>\n",
       "      <td>1</td>\n",
       "      <td>First two</td>\n",
       "      <td>Ephermal</td>\n",
       "    </tr>\n",
       "  </tbody>\n",
       "</table>\n",
       "</div>"
      ],
      "text/plain": [
       "   menu_order overall_easy overall_easiness\n",
       "0           0   Second two         Ephermal\n",
       "1           0   Second two         Ephermal\n",
       "2           1    First two         Ephermal\n",
       "3           1   Second two          Control\n",
       "4           1    First two         Ephermal"
      ]
     },
     "execution_count": 210,
     "metadata": {},
     "output_type": "execute_result"
    }
   ],
   "source": [
    "qual_df[['menu_order', 'overall_easy', 'overall_easiness']].head()"
   ]
  },
  {
   "cell_type": "code",
   "execution_count": 211,
   "metadata": {},
   "outputs": [
    {
     "name": "stdout",
     "output_type": "stream",
     "text": [
      "15 people found the Ephermal condition easier to use\n",
      "62.5 % of people found the Ephermal condition easier to use\n"
     ]
    }
   ],
   "source": [
    "print(str(np.sum(qual_df['overall_easiness'] == \"Ephermal\")) + ' people found the Ephermal condition easier to use')\n",
    "print(str(np.sum(qual_df['overall_easiness'] == \"Ephermal\")/len(qual_df) * 100) + ' % of people found the Ephermal condition easier to use')"
   ]
  },
  {
   "cell_type": "markdown",
   "metadata": {},
   "source": [
    "Note that: if people prefer the condition, they also say they found the condition easy to use."
   ]
  },
  {
   "cell_type": "markdown",
   "metadata": {},
   "source": [
    "## Qualitative Questions Analysis + Plot"
   ]
  },
  {
   "cell_type": "code",
   "execution_count": 199,
   "metadata": {},
   "outputs": [],
   "source": [
    "from scipy.stats import wilcoxon"
   ]
  },
  {
   "cell_type": "code",
   "execution_count": 200,
   "metadata": {},
   "outputs": [],
   "source": [
    "def plot_qual_function(x, y):\n",
    "    fig, ax = plt.subplots(2, sharex=True)\n",
    "    ax[0].hist(qual_df[x])\n",
    "    ax[0].set_xlim([1,7])\n",
    "    ax[0].set_title('Rating for ' + x)\n",
    "    print('The average for ' + x +'is: ' + str(np.average(qual_df[x])))\n",
    "    \n",
    "    ax[1].hist(qual_df[y])\n",
    "    ax[1].set_xlim([1,7])\n",
    "    ax[1].set_title('Rating for ' + y)\n",
    "    print('The average for ' + y +'is: '+ str(np.average(qual_df[y])))\n",
    "    \n",
    "    plt.show()\n",
    "    print(wilcoxon(qual_df[x], qual_df[y]))"
   ]
  },
  {
   "cell_type": "markdown",
   "metadata": {},
   "source": [
    "###  Difficulty"
   ]
  },
  {
   "cell_type": "code",
   "execution_count": 201,
   "metadata": {
    "scrolled": true
   },
   "outputs": [
    {
     "name": "stdout",
     "output_type": "stream",
     "text": [
      "The average for control_difficultyis: 5.666666666666667\n",
      "The average for ephemeral_difficultyis: 6.083333333333333\n"
     ]
    },
    {
     "data": {
      "image/png": "[encoded data removed]",
      "text/plain": [
       "<Figure size 432x288 with 2 Axes>"
      ]
     },
     "metadata": {},
     "output_type": "display_data"
    },
    {
     "name": "stdout",
     "output_type": "stream",
     "text": [
      "WilcoxonResult(statistic=7.5, pvalue=0.26319907816125776)\n"
     ]
    },
    {
     "name": "stderr",
     "output_type": "stream",
     "text": [
      "/Users/pwong/anaconda3/lib/python3.6/site-packages/scipy/stats/morestats.py:2388: UserWarning: Warning: sample size too small for normal approximation.\n",
      "  warnings.warn(\"Warning: sample size too small for normal approximation.\")\n"
     ]
    }
   ],
   "source": [
    "plot_qual_function('control_difficulty', 'ephemeral_difficulty')"
   ]
  },
  {
   "cell_type": "markdown",
   "metadata": {},
   "source": [
    "No significant difference on difficulty between the two conditions"
   ]
  },
  {
   "cell_type": "markdown",
   "metadata": {},
   "source": [
    "### Satisfaction"
   ]
  },
  {
   "cell_type": "code",
   "execution_count": 202,
   "metadata": {},
   "outputs": [
    {
     "name": "stdout",
     "output_type": "stream",
     "text": [
      "The average for control_satisfactionis: 5.5\n",
      "The average for ephemeral_satisfactionis: 5.25\n"
     ]
    },
    {
     "data": {
      "image/png": "[encoded data removed]",
      "text/plain": [
       "<Figure size 432x288 with 2 Axes>"
      ]
     },
     "metadata": {},
     "output_type": "display_data"
    },
    {
     "name": "stdout",
     "output_type": "stream",
     "text": [
      "WilcoxonResult(statistic=14.0, pvalue=0.1445852799373539)\n"
     ]
    }
   ],
   "source": [
    "plot_qual_function('control_satisfaction', 'ephemeral_satisfaction')"
   ]
  },
  {
   "cell_type": "markdown",
   "metadata": {},
   "source": [
    "Significant difference between control and ephermal on satisfaction that people found Control condition more satisfying to use. \n",
    "\n",
    "The average satisfaction rating for Control was 5.71 (out of 7), while the average rating for Ephermeral was 5.38 (out of 7). Control was more satisfying to use than Ephermeral (z=4.0, p = .034)"
   ]
  },
  {
   "cell_type": "markdown",
   "metadata": {},
   "source": [
    "### Frustration"
   ]
  },
  {
   "cell_type": "code",
   "execution_count": 203,
   "metadata": {},
   "outputs": [
    {
     "name": "stdout",
     "output_type": "stream",
     "text": [
      "The average for control_frustrationis: 3.4166666666666665\n",
      "The average for ephemeral_frustrationis: 3.5416666666666665\n"
     ]
    },
    {
     "data": {
      "image/png": "[encoded data removed]",
      "text/plain": [
       "<Figure size 432x288 with 2 Axes>"
      ]
     },
     "metadata": {},
     "output_type": "display_data"
    },
    {
     "name": "stdout",
     "output_type": "stream",
     "text": [
      "WilcoxonResult(statistic=26.0, pvalue=0.8755611072198808)\n"
     ]
    }
   ],
   "source": [
    "plot_qual_function('control_frustration', 'ephemeral_frustration')"
   ]
  },
  {
   "cell_type": "markdown",
   "metadata": {},
   "source": [
    "No significant difference between control and ephermal on frustration"
   ]
  },
  {
   "cell_type": "markdown",
   "metadata": {},
   "source": [
    "### Efficiency"
   ]
  },
  {
   "cell_type": "code",
   "execution_count": 204,
   "metadata": {},
   "outputs": [
    {
     "name": "stdout",
     "output_type": "stream",
     "text": [
      "The average for control_efficiencyis: 4.791666666666667\n",
      "The average for ephemeral_efficiencyis: 5.125\n"
     ]
    },
    {
     "data": {
      "image/png": "[encoded data removed]",
      "text/plain": [
       "<Figure size 432x288 with 2 Axes>"
      ]
     },
     "metadata": {},
     "output_type": "display_data"
    },
    {
     "name": "stdout",
     "output_type": "stream",
     "text": [
      "WilcoxonResult(statistic=19.5, pvalue=0.4026458293627345)\n"
     ]
    }
   ],
   "source": [
    "plot_qual_function('control_efficiency', 'ephemeral_efficiency')"
   ]
  },
  {
   "cell_type": "markdown",
   "metadata": {},
   "source": [
    "No significant difference between control and ephermal on efficiency"
   ]
  },
  {
   "cell_type": "code",
   "execution_count": 141,
   "metadata": {},
   "outputs": [
    {
     "data": {
      "text/plain": [
       "Index(['participant_number', 'age', 'gender', 'menu_order',\n",
       "       'overall_preference', 'overall_easy', 'control_satisfaction',\n",
       "       'control_difficulty', 'control_frustration', 'control_efficiency',\n",
       "       'ephemeral_satisfaction', 'ephemeral_difficulty',\n",
       "       'ephemeral_frustration', 'ephemeral_efficiency'],\n",
       "      dtype='object')"
      ]
     },
     "execution_count": 141,
     "metadata": {},
     "output_type": "execute_result"
    }
   ],
   "source": [
    "qual_df.columns"
   ]
  },
  {
   "cell_type": "code",
   "execution_count": null,
   "metadata": {},
   "outputs": [],
   "source": []
  }
 ],
 "metadata": {
  "kernelspec": {
   "display_name": "Python 3",
   "language": "python",
   "name": "python3"
  },
  "language_info": {
   "codemirror_mode": {
    "name": "ipython",
    "version": 3
   },
   "file_extension": ".py",
   "mimetype": "text/x-python",
   "name": "python",
   "nbconvert_exporter": "python",
   "pygments_lexer": "ipython3",
   "version": "3.6.5"
  }
 },
 "nbformat": 4,
 "nbformat_minor": 2
}
